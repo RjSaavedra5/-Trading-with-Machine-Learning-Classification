La primera parte debe ser el backtest
